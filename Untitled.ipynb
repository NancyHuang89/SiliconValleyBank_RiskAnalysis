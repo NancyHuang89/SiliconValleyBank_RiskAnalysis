{
 "cells": [
  {
   "cell_type": "code",
   "execution_count": 1,
   "id": "789e2540-e839-44cb-b7dc-ca0da7298820",
   "metadata": {},
   "outputs": [],
   "source": [
    "import pandas as pd\n",
    "import openpyxl \n",
    "pd.set_option('display.max_rows', 500)\n",
    "#read the balance sheet and RC-B\n",
    "BSheet = pd.read_excel('Bulk_RC_2022Q4.xlsx', sheet_name = 'RC')\n",
    "Memo = pd.read_excel('Bulk_RC_2022Q4.xlsx', sheet_name = 'RCM')\n",
    "POC = pd.read_excel('Bulk_RC_2022Q4.xlsx', sheet_name = 'POC')\n",
    "#Index IDRSSD and Bank name\n",
    "POC_slim = POC[['IDRSSD','Financial Institution Name']] \n",
    "POC_slim.columns = ['IDRSSD','Financial_Institution_Name']"
   ]
  },
  {
   "cell_type": "code",
   "execution_count": 2,
   "id": "eb206a69-cd3e-4a8d-9aab-731e7d215cce",
   "metadata": {},
   "outputs": [],
   "source": [
    "pd.set_option('display.float_format', lambda x: '%.3f' % x)"
   ]
  },
  {
   "cell_type": "markdown",
   "id": "728a43e9-3815-470a-86c7-30f0e40a4d20",
   "metadata": {},
   "source": [
    "## PART A"
   ]
  },
  {
   "cell_type": "code",
   "execution_count": 3,
   "id": "2bb4d9d6-7f45-427b-9817-96b313918c50",
   "metadata": {},
   "outputs": [],
   "source": [
    "#Slim version Bal Sheet\n",
    "BS_slim_A = BSheet[['IDRSSD','RCFD2170','RCFD3190','RCON2200','RCON6631','RCON6636']]\n",
    "BS_slim_A.columns = ['IDRSSD','Total_Assets','All_Other_Borrowed_Money','Total_Domestic_Deposit','Total_Domestic_NIBDeposit','Total_Domestic_IBDeposit']\n",
    "BS_slim_A = BS_slim_A.fillna(0)"
   ]
  },
  {
   "cell_type": "code",
   "execution_count": 4,
   "id": "40eebe10-7bc7-4887-b467-abc5ded1e0aa",
   "metadata": {},
   "outputs": [],
   "source": [
    "Memo_slim_A = Memo[['IDRSSD','RCFDF055','RCFDF056','RCFDF057','RCFDF058']]\n",
    "Memo_slim_A.columns = ['IDRSSD','FHLB_Advance_1yr','FHLB_Advance_3yr','FHLB_Advance_5yr','FHLB_Advance_lt']\n",
    "Memo_slim_A = Memo_slim_A.fillna(0)"
   ]
  },
  {
   "cell_type": "code",
   "execution_count": 5,
   "id": "b11c83f0-9317-4271-b844-46ded1f2ded7",
   "metadata": {},
   "outputs": [],
   "source": [
    "#Combine the three sources\n",
    "Comb = POC_slim.merge(BS_slim_A,how='left',on='IDRSSD').merge(Memo_slim_A,how='left',on='IDRSSD')\n",
    "Comb['All_Other_Borrowed_Money_Ratio'] = Comb['All_Other_Borrowed_Money']/Comb['Total_Assets']\n",
    "Comb['FHLB_Advance_1yr_Asst_Ratio'] = Comb['FHLB_Advance_1yr']/Comb['Total_Assets']\n",
    "Comb['FHLB_Advance_1yr_Dep_Ratio'] = Comb['FHLB_Advance_1yr']/Comb['Total_Domestic_Deposit']"
   ]
  },
  {
   "cell_type": "code",
   "execution_count": 6,
   "id": "ec486e3a-dde8-4792-a0dd-a566a65e133a",
   "metadata": {},
   "outputs": [],
   "source": [
    "#Sort the Unrealized Loss to Total Assets Ratio\n",
    "Consolidated_A = Comb.sort_values(by = 'FHLB_Advance_1yr_Asst_Ratio', ascending = False)\n",
    "Consolidated_A = Consolidated_A[Consolidated_A['Total_Assets']>0]\n",
    "Consolidated_A['Category'] = 'Domestic_And_Foreign_Offices'"
   ]
  },
  {
   "cell_type": "markdown",
   "id": "7a8da574-49e3-4c6e-9249-c17e72954f11",
   "metadata": {},
   "source": [
    "## PART B"
   ]
  },
  {
   "cell_type": "code",
   "execution_count": 7,
   "id": "78da2432-6bb1-47b8-b22a-d22fdce51b26",
   "metadata": {},
   "outputs": [],
   "source": [
    "#Slim version Bal Sheet\n",
    "BS_slim_B = BSheet[['IDRSSD','RCON2170','RCON3190','RCON2200','RCON6631','RCON6636']]\n",
    "BS_slim_B.columns = ['IDRSSD','Total_Assets','All_Other_Borrowed_Money','Total_Domestic_Deposit','Total_Domestic_NIBDeposit','Total_Domestic_IBDeposit']\n",
    "BS_slim_B = BS_slim_B.fillna(0)\n",
    "\n",
    "#Slim RC-M\n",
    "Memo_slim_B = Memo[['IDRSSD','RCONF060','RCONF061','RCONF062','RCONF063']]\n",
    "Memo_slim_B.columns = ['IDRSSD','FHLB_Advance_1yr','FHLB_Advance_3yr','FHLB_Advance_5yr','FHLB_Advance_lt']\n",
    "Memo_slim_B = Memo_slim_B.fillna(0)"
   ]
  },
  {
   "cell_type": "code",
   "execution_count": 8,
   "id": "6388ac00-2caa-4246-851c-7c0182fc4e65",
   "metadata": {},
   "outputs": [],
   "source": [
    "#Combine the three sources\n",
    "Comb = POC_slim.merge(BS_slim_B,how='left',on='IDRSSD').merge(Memo_slim_B,how='left',on='IDRSSD')\n",
    "Comb['All_Other_Borrowed_Money_Ratio'] = Comb['All_Other_Borrowed_Money']/Comb['Total_Assets']\n",
    "Comb['FHLB_Advance_1yr_Asst_Ratio'] = Comb['FHLB_Advance_1yr']/Comb['Total_Assets']\n",
    "Comb['FHLB_Advance_1yr_Dep_Ratio'] = Comb['FHLB_Advance_1yr']/Comb['Total_Domestic_Deposit']"
   ]
  },
  {
   "cell_type": "code",
   "execution_count": 9,
   "id": "e897c2de-4b77-4b36-99b5-95e7e01ce41d",
   "metadata": {},
   "outputs": [],
   "source": [
    "#Sort the Unrealized Loss to Total Assets Ratio\n",
    "Consolidated_B = Comb.sort_values(by = 'FHLB_Advance_1yr_Asst_Ratio', ascending = False)\n",
    "Consolidated_B = Consolidated_B[Consolidated_B['Total_Assets']>0]\n",
    "Consolidated_B['Category'] = 'Domestic_Only'"
   ]
  },
  {
   "cell_type": "markdown",
   "id": "0f4e2264-dfbb-4f63-b028-2e01960336fc",
   "metadata": {},
   "source": [
    "## Export"
   ]
  },
  {
   "cell_type": "code",
   "execution_count": 10,
   "id": "2f2d5d77-a77a-446c-90cd-41c2eef709b2",
   "metadata": {},
   "outputs": [],
   "source": [
    "Consolidated_A.to_excel('FHLB_StBorrow_Asset_Ratio_Analysis.xlsx',sheet_name = 'Domestic_And_Foreign_Offices',index=False)\n",
    "with pd.ExcelWriter('FHLB_StBorrow_Asset_Ratio_Analysis.xlsx',mode='a',engine = 'openpyxl') as writer:\n",
    "    #writer.book = openpyxl.load_workbook('HTM_Unrealized_Loss_Analysis.xlsx')\n",
    "    Consolidated_B.to_excel(writer, sheet_name='Domestic_Only')"
   ]
  }
 ],
 "metadata": {
  "kernelspec": {
   "display_name": "Python 3 (ipykernel)",
   "language": "python",
   "name": "python3"
  },
  "language_info": {
   "codemirror_mode": {
    "name": "ipython",
    "version": 3
   },
   "file_extension": ".py",
   "mimetype": "text/x-python",
   "name": "python",
   "nbconvert_exporter": "python",
   "pygments_lexer": "ipython3",
   "version": "3.9.7"
  }
 },
 "nbformat": 4,
 "nbformat_minor": 5
}
